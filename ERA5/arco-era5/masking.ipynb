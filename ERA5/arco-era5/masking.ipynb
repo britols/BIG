{
 "cells": [
  {
   "cell_type": "markdown",
   "metadata": {},
   "source": [
    "source:\n",
    "> https://gist.github.com/bradyrx/1a15d8c45eac126e78d84af3f123ffdb"
   ]
  },
  {
   "cell_type": "code",
   "execution_count": null,
   "metadata": {},
   "outputs": [],
   "source": [
    "%matplotlib inline\n",
    "import geopandas as gpd\n",
    "import matplotlib.pyplot as plt\n",
    "from descartes import PolygonPatch\n",
    "import xarray as xr\n",
    "import numpy as np\n",
    "from shapely.geometry import Point, Polygon"
   ]
  },
  {
   "cell_type": "code",
   "execution_count": null,
   "metadata": {},
   "outputs": [],
   "source": [
    "def load_shape_file(filepath):\n",
    "    \"\"\"Loads the shape file desired to mask a grid.\n",
    "    Args:\n",
    "        filepath: Path to *.shp file\n",
    "    \"\"\"\n",
    "    shpfile = gpd.read_file(filepath)\n",
    "    print(\"\"\"Shapefile loaded. To prepare for masking, run the function\n",
    "        `select_shape`.\"\"\")\n",
    "    return shpfile\n",
    "\n",
    "def select_shape(shpfile, category, name, plot=True):\n",
    "    \"\"\"Select the submask of interest from the shapefile.\n",
    "    Args:\n",
    "        shpfile: (*.shp) loaded through `load_shape_file`\n",
    "        category: (str) header of shape file from which to filter shape.\n",
    "            (Run print(shpfile) to see options)\n",
    "        name: (str) name of shape relative to category.\n",
    "        plot: (optional bool) if True, plot the polygon that will be masking.\n",
    "    Returns:\n",
    "        shapely polygon\n",
    "    Example:\n",
    "        from esmask.mask import load_shape_file, select_shape\n",
    "        LME = load_shape_file('LMEs.shp')\n",
    "        CalCS = select_shape(LME, 'LME_NAME', 'California Current')\n",
    "    \"\"\"\n",
    "    s = shpfile\n",
    "    polygon = s[s[category] == name]\n",
    "    polygon = polygon.geometry[:].unary_union\n",
    "    if plot:\n",
    "        f, ax = plt.subplots()\n",
    "        ax.add_patch(PolygonPatch(polygon, fc='#6699cc', ec='#6699cc',\n",
    "                     alpha=0.5))\n",
    "        ax.axis('scaled')\n",
    "        plt.show()\n",
    "    return polygon\n",
    "\n",
    "\n",
    "def serial_mask(lon, lat, polygon):\n",
    "    \"\"\"Masks longitude and latitude by the input shapefile.\n",
    "    Args:\n",
    "        lon, lat: longitude and latitude grids.\n",
    "            (use np.meshgrid if they start as 1D grids)\n",
    "        polygon: output from `select_shape`. a shapely polygon of the region\n",
    "                 you want to mask.\n",
    "    Returns:\n",
    "        mask: boolean mask with same dimensions as input grids.\n",
    "    Resource:\n",
    "       adapted from https://stackoverflow.com/questions/47781496/\n",
    "                    python-using-polygons-to-create-a-mask-on-a-given-2d-grid\n",
    "    \"\"\"\n",
    "    # You might need to change this...\n",
    "    if ( (len(lon.shape) != 2) | (len(lat.shape) != 2) ):\n",
    "        raise ValueError(\"\"\"Please input a longitude and latitude *grid*.\n",
    "            I.e., it should be of two dimensions.\"\"\")\n",
    "    lon, lat = np.asarray(lon), np.asarray(lat)\n",
    "    # convert to -180 to 180, as I expect most shapefiles are that way.\n",
    "    lon[lon > 180] = lon[lon > 180] - 360\n",
    "    lon1d, lat1d = lon.reshape(-1), lat.reshape(-1)\n",
    "    # create list of all points in longitude and latitude.\n",
    "    a = np.array([Point(x, y) for x, y in zip(lon1d, lat1d)], dtype=object)\n",
    "    # loop through and check whether each point is inside polygon.\n",
    "    mask = np.array([polygon.contains(point) for point in a])\n",
    "    # reshape to input grid.\n",
    "    mask = mask.reshape(lon.shape)\n",
    "    return mask"
   ]
  },
  {
   "cell_type": "code",
   "execution_count": null,
   "metadata": {},
   "outputs": [],
   "source": [
    "\n",
    "shpfile = load_shape_file('/Users/ribr5703/Downloads/LME66-1/LMEs66.shp')\n",
    "gulf = select_shape(shpfile, 'LME_NAME', 'Gulf of Alaska', plot=False)"
   ]
  },
  {
   "cell_type": "code",
   "execution_count": null,
   "metadata": {},
   "outputs": [],
   "source": [
    "ds = xr.open_dataset('g.e11_LENS.GECOIAF.T62_g16.009.pop.h.SST.024901-031612.nc')\n",
    "# Just get lat/lon grid\n",
    "ds = ds.squeeze().isel(time=0)\n"
   ]
  },
  {
   "cell_type": "code",
   "execution_count": null,
   "metadata": {},
   "outputs": [],
   "source": [
    "\n",
    "\n",
    "# regions = np.unique(shpfile['LME_NAME'])\n",
    "regions = ['Gulf of Alaska', 'California Current']\n",
    "finalMask = xr.full_like(ds.SST, np.nan)\n",
    "\n",
    "# indices = np.unique(shpfile['index']))\n",
    "# you could change i to be an array of indices associated \n",
    "# with your regions\n",
    "for i, R in zip(np.arange(len(regions)), regions):\n",
    "    polygon = select_shape(shpfile, 'LME_NAME', R, plot=False)\n",
    "    # longitude/latitude for your data.\n",
    "    print(f\"masking {R}...\")\n",
    "    temp_mask = serial_mask(ds.TLONG, ds.TLAT, polygon)\n",
    "    # set integer for the given region.\n",
    "    temp_mask = xr.DataArray(temp_mask, dims=['nlat', 'nlon']) # dims should be like your base data array you'll be masking\n",
    "    # Assign NaNs outside of mask, and index within\n",
    "    temp_mask = (temp_mask.where(temp_mask) + i).fillna(0)\n",
    "    # Add masked region to master array.\n",
    "    finalMask = finalMask.fillna(0) + temp_mask\n",
    "    # Make your zeros NaNs again.\n",
    "    finalMask = finalMask.where(finalMask > 0)"
   ]
  },
  {
   "cell_type": "code",
   "execution_count": null,
   "metadata": {},
   "outputs": [],
   "source": [
    "finalMask.plot()"
   ]
  },
  {
   "cell_type": "code",
   "execution_count": null,
   "metadata": {},
   "outputs": [],
   "source": [
    "(finalMask==2).plot()\n"
   ]
  }
 ],
 "metadata": {
  "language_info": {
   "name": "python"
  }
 },
 "nbformat": 4,
 "nbformat_minor": 2
}
