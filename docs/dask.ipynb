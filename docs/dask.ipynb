{
 "cells": [
  {
   "cell_type": "code",
   "execution_count": 1,
   "metadata": {},
   "outputs": [
    {
     "name": "stderr",
     "output_type": "stream",
     "text": [
      "c:\\Users\\ls2236\\AppData\\Local\\anaconda3\\Lib\\site-packages\\distributed\\node.py:187: UserWarning: Port 8787 is already in use.\n",
      "Perhaps you already have a cluster running?\n",
      "Hosting the HTTP server on port 50777 instead\n",
      "  warnings.warn(\n"
     ]
    },
    {
     "data": {
      "text/html": [
       "<div>\n",
       "    <div style=\"width: 24px; height: 24px; background-color: #e1e1e1; border: 3px solid #9D9D9D; border-radius: 5px; position: absolute;\"> </div>\n",
       "    <div style=\"margin-left: 48px;\">\n",
       "        <h3 style=\"margin-bottom: 0px;\">Client</h3>\n",
       "        <p style=\"color: #9D9D9D; margin-bottom: 0px;\">Client-72e660b6-7c58-11ef-a68c-4cd717a92712</p>\n",
       "        <table style=\"width: 100%; text-align: left;\">\n",
       "\n",
       "        <tr>\n",
       "        \n",
       "            <td style=\"text-align: left;\"><strong>Connection method:</strong> Cluster object</td>\n",
       "            <td style=\"text-align: left;\"><strong>Cluster type:</strong> distributed.LocalCluster</td>\n",
       "        \n",
       "        </tr>\n",
       "\n",
       "        \n",
       "            <tr>\n",
       "                <td style=\"text-align: left;\">\n",
       "                    <strong>Dashboard: </strong> <a href=\"http://127.0.0.1:50777/status\" target=\"_blank\">http://127.0.0.1:50777/status</a>\n",
       "                </td>\n",
       "                <td style=\"text-align: left;\"></td>\n",
       "            </tr>\n",
       "        \n",
       "\n",
       "        </table>\n",
       "\n",
       "        \n",
       "\n",
       "        \n",
       "            <details>\n",
       "            <summary style=\"margin-bottom: 20px;\"><h3 style=\"display: inline;\">Cluster Info</h3></summary>\n",
       "            <div class=\"jp-RenderedHTMLCommon jp-RenderedHTML jp-mod-trusted jp-OutputArea-output\">\n",
       "    <div style=\"width: 24px; height: 24px; background-color: #e1e1e1; border: 3px solid #9D9D9D; border-radius: 5px; position: absolute;\">\n",
       "    </div>\n",
       "    <div style=\"margin-left: 48px;\">\n",
       "        <h3 style=\"margin-bottom: 0px; margin-top: 0px;\">LocalCluster</h3>\n",
       "        <p style=\"color: #9D9D9D; margin-bottom: 0px;\">a56aeb4e</p>\n",
       "        <table style=\"width: 100%; text-align: left;\">\n",
       "            <tr>\n",
       "                <td style=\"text-align: left;\">\n",
       "                    <strong>Dashboard:</strong> <a href=\"http://127.0.0.1:50777/status\" target=\"_blank\">http://127.0.0.1:50777/status</a>\n",
       "                </td>\n",
       "                <td style=\"text-align: left;\">\n",
       "                    <strong>Workers:</strong> 1\n",
       "                </td>\n",
       "            </tr>\n",
       "            <tr>\n",
       "                <td style=\"text-align: left;\">\n",
       "                    <strong>Total threads:</strong> 4\n",
       "                </td>\n",
       "                <td style=\"text-align: left;\">\n",
       "                    <strong>Total memory:</strong> 63.25 GiB\n",
       "                </td>\n",
       "            </tr>\n",
       "            \n",
       "            <tr>\n",
       "    <td style=\"text-align: left;\"><strong>Status:</strong> running</td>\n",
       "    <td style=\"text-align: left;\"><strong>Using processes:</strong> True</td>\n",
       "</tr>\n",
       "\n",
       "            \n",
       "        </table>\n",
       "\n",
       "        <details>\n",
       "            <summary style=\"margin-bottom: 20px;\">\n",
       "                <h3 style=\"display: inline;\">Scheduler Info</h3>\n",
       "            </summary>\n",
       "\n",
       "            <div style=\"\">\n",
       "    <div>\n",
       "        <div style=\"width: 24px; height: 24px; background-color: #FFF7E5; border: 3px solid #FF6132; border-radius: 5px; position: absolute;\"> </div>\n",
       "        <div style=\"margin-left: 48px;\">\n",
       "            <h3 style=\"margin-bottom: 0px;\">Scheduler</h3>\n",
       "            <p style=\"color: #9D9D9D; margin-bottom: 0px;\">Scheduler-9dda0434-03f3-4c33-8ee0-c6ab79097b2f</p>\n",
       "            <table style=\"width: 100%; text-align: left;\">\n",
       "                <tr>\n",
       "                    <td style=\"text-align: left;\">\n",
       "                        <strong>Comm:</strong> tcp://127.0.0.1:50779\n",
       "                    </td>\n",
       "                    <td style=\"text-align: left;\">\n",
       "                        <strong>Workers:</strong> 1\n",
       "                    </td>\n",
       "                </tr>\n",
       "                <tr>\n",
       "                    <td style=\"text-align: left;\">\n",
       "                        <strong>Dashboard:</strong> <a href=\"http://127.0.0.1:50777/status\" target=\"_blank\">http://127.0.0.1:50777/status</a>\n",
       "                    </td>\n",
       "                    <td style=\"text-align: left;\">\n",
       "                        <strong>Total threads:</strong> 4\n",
       "                    </td>\n",
       "                </tr>\n",
       "                <tr>\n",
       "                    <td style=\"text-align: left;\">\n",
       "                        <strong>Started:</strong> Just now\n",
       "                    </td>\n",
       "                    <td style=\"text-align: left;\">\n",
       "                        <strong>Total memory:</strong> 63.25 GiB\n",
       "                    </td>\n",
       "                </tr>\n",
       "            </table>\n",
       "        </div>\n",
       "    </div>\n",
       "\n",
       "    <details style=\"margin-left: 48px;\">\n",
       "        <summary style=\"margin-bottom: 20px;\">\n",
       "            <h3 style=\"display: inline;\">Workers</h3>\n",
       "        </summary>\n",
       "\n",
       "        \n",
       "        <div style=\"margin-bottom: 20px;\">\n",
       "            <div style=\"width: 24px; height: 24px; background-color: #DBF5FF; border: 3px solid #4CC9FF; border-radius: 5px; position: absolute;\"> </div>\n",
       "            <div style=\"margin-left: 48px;\">\n",
       "            <details>\n",
       "                <summary>\n",
       "                    <h4 style=\"margin-bottom: 0px; display: inline;\">Worker: 0</h4>\n",
       "                </summary>\n",
       "                <table style=\"width: 100%; text-align: left;\">\n",
       "                    <tr>\n",
       "                        <td style=\"text-align: left;\">\n",
       "                            <strong>Comm: </strong> tcp://127.0.0.1:50786\n",
       "                        </td>\n",
       "                        <td style=\"text-align: left;\">\n",
       "                            <strong>Total threads: </strong> 4\n",
       "                        </td>\n",
       "                    </tr>\n",
       "                    <tr>\n",
       "                        <td style=\"text-align: left;\">\n",
       "                            <strong>Dashboard: </strong> <a href=\"http://127.0.0.1:50787/status\" target=\"_blank\">http://127.0.0.1:50787/status</a>\n",
       "                        </td>\n",
       "                        <td style=\"text-align: left;\">\n",
       "                            <strong>Memory: </strong> 63.25 GiB\n",
       "                        </td>\n",
       "                    </tr>\n",
       "                    <tr>\n",
       "                        <td style=\"text-align: left;\">\n",
       "                            <strong>Nanny: </strong> tcp://127.0.0.1:50782\n",
       "                        </td>\n",
       "                        <td style=\"text-align: left;\"></td>\n",
       "                    </tr>\n",
       "                    <tr>\n",
       "                        <td colspan=\"2\" style=\"text-align: left;\">\n",
       "                            <strong>Local directory: </strong> C:\\Users\\ls2236\\AppData\\Local\\Temp\\dask-scratch-space\\worker-b7u7msgz\n",
       "                        </td>\n",
       "                    </tr>\n",
       "\n",
       "                    \n",
       "\n",
       "                    \n",
       "\n",
       "                </table>\n",
       "            </details>\n",
       "            </div>\n",
       "        </div>\n",
       "        \n",
       "\n",
       "    </details>\n",
       "</div>\n",
       "\n",
       "        </details>\n",
       "    </div>\n",
       "</div>\n",
       "            </details>\n",
       "        \n",
       "\n",
       "    </div>\n",
       "</div>"
      ],
      "text/plain": [
       "<Client: 'tcp://127.0.0.1:50779' processes=1 threads=4, memory=63.25 GiB>"
      ]
     },
     "execution_count": 1,
     "metadata": {},
     "output_type": "execute_result"
    }
   ],
   "source": [
    "from dask.distributed import Client, progress\n",
    "client = Client(threads_per_worker=4, n_workers=1)\n",
    "client"
   ]
  },
  {
   "cell_type": "code",
   "execution_count": 2,
   "metadata": {},
   "outputs": [],
   "source": [
    "import time\n",
    "import random\n",
    "\n",
    "def costly_simulation(list_param):\n",
    "    time.sleep(random.random())\n",
    "    return sum(list_param)"
   ]
  },
  {
   "cell_type": "code",
   "execution_count": 3,
   "metadata": {},
   "outputs": [
    {
     "name": "stdout",
     "output_type": "stream",
     "text": [
      "CPU times: total: 0 ns\n",
      "Wall time: 312 ms\n"
     ]
    },
    {
     "data": {
      "text/plain": [
       "10"
      ]
     },
     "execution_count": 3,
     "metadata": {},
     "output_type": "execute_result"
    }
   ],
   "source": [
    "%time costly_simulation([1, 2, 3, 4])\n"
   ]
  },
  {
   "cell_type": "code",
   "execution_count": 4,
   "metadata": {},
   "outputs": [
    {
     "data": {
      "text/html": [
       "<div>\n",
       "<style scoped>\n",
       "    .dataframe tbody tr th:only-of-type {\n",
       "        vertical-align: middle;\n",
       "    }\n",
       "\n",
       "    .dataframe tbody tr th {\n",
       "        vertical-align: top;\n",
       "    }\n",
       "\n",
       "    .dataframe thead th {\n",
       "        text-align: right;\n",
       "    }\n",
       "</style>\n",
       "<table border=\"1\" class=\"dataframe\">\n",
       "  <thead>\n",
       "    <tr style=\"text-align: right;\">\n",
       "      <th></th>\n",
       "      <th>param_a</th>\n",
       "      <th>param_b</th>\n",
       "      <th>param_c</th>\n",
       "      <th>param_d</th>\n",
       "    </tr>\n",
       "  </thead>\n",
       "  <tbody>\n",
       "    <tr>\n",
       "      <th>0</th>\n",
       "      <td>0.361660</td>\n",
       "      <td>0.951425</td>\n",
       "      <td>0.039748</td>\n",
       "      <td>0.449094</td>\n",
       "    </tr>\n",
       "    <tr>\n",
       "      <th>1</th>\n",
       "      <td>0.316568</td>\n",
       "      <td>0.929531</td>\n",
       "      <td>0.014773</td>\n",
       "      <td>0.486726</td>\n",
       "    </tr>\n",
       "    <tr>\n",
       "      <th>2</th>\n",
       "      <td>0.310037</td>\n",
       "      <td>0.867359</td>\n",
       "      <td>0.020525</td>\n",
       "      <td>0.590873</td>\n",
       "    </tr>\n",
       "    <tr>\n",
       "      <th>3</th>\n",
       "      <td>0.547056</td>\n",
       "      <td>0.434081</td>\n",
       "      <td>0.129115</td>\n",
       "      <td>0.118985</td>\n",
       "    </tr>\n",
       "    <tr>\n",
       "      <th>4</th>\n",
       "      <td>0.746568</td>\n",
       "      <td>0.313858</td>\n",
       "      <td>0.520813</td>\n",
       "      <td>0.003265</td>\n",
       "    </tr>\n",
       "  </tbody>\n",
       "</table>\n",
       "</div>"
      ],
      "text/plain": [
       "    param_a   param_b   param_c   param_d\n",
       "0  0.361660  0.951425  0.039748  0.449094\n",
       "1  0.316568  0.929531  0.014773  0.486726\n",
       "2  0.310037  0.867359  0.020525  0.590873\n",
       "3  0.547056  0.434081  0.129115  0.118985\n",
       "4  0.746568  0.313858  0.520813  0.003265"
      ]
     },
     "execution_count": 4,
     "metadata": {},
     "output_type": "execute_result"
    }
   ],
   "source": [
    "import pandas as pd\n",
    "import numpy as np\n",
    "\n",
    "input_params = pd.DataFrame(np.random.random(size=(500, 4)),\n",
    "                            columns=['param_a', 'param_b', 'param_c', 'param_d'])\n",
    "input_params.head()"
   ]
  },
  {
   "cell_type": "code",
   "execution_count": 5,
   "metadata": {},
   "outputs": [],
   "source": [
    "results = []\n"
   ]
  },
  {
   "cell_type": "code",
   "execution_count": 6,
   "metadata": {},
   "outputs": [
    {
     "name": "stdout",
     "output_type": "stream",
     "text": [
      "CPU times: total: 15.6 ms\n",
      "Wall time: 3.53 s\n"
     ]
    }
   ],
   "source": [
    "%%time\n",
    "for parameters in input_params.values[:10]:\n",
    "    result = costly_simulation(parameters)\n",
    "    results.append(result)"
   ]
  },
  {
   "cell_type": "code",
   "execution_count": 7,
   "metadata": {},
   "outputs": [],
   "source": [
    "import dask\n",
    "lazy_results = []"
   ]
  },
  {
   "cell_type": "code",
   "execution_count": 8,
   "metadata": {},
   "outputs": [
    {
     "name": "stdout",
     "output_type": "stream",
     "text": [
      "CPU times: total: 0 ns\n",
      "Wall time: 0 ns\n"
     ]
    }
   ],
   "source": [
    "%%time\n",
    "\n",
    "for parameters in input_params.values[:10]:\n",
    "    lazy_result = dask.delayed(costly_simulation)(parameters)\n",
    "    lazy_results.append(lazy_result)"
   ]
  },
  {
   "cell_type": "code",
   "execution_count": 9,
   "metadata": {},
   "outputs": [
    {
     "data": {
      "text/plain": [
       "Delayed('costly_simulation-34613953-25c1-4173-958a-efa58bededee')"
      ]
     },
     "execution_count": 9,
     "metadata": {},
     "output_type": "execute_result"
    }
   ],
   "source": [
    "lazy_results[0]\n"
   ]
  },
  {
   "cell_type": "code",
   "execution_count": 11,
   "metadata": {},
   "outputs": [
    {
     "name": "stdout",
     "output_type": "stream",
     "text": [
      "CPU times: total: 15.6 ms\n",
      "Wall time: 1.51 s\n"
     ]
    },
    {
     "data": {
      "text/plain": [
       "(1.801926951450851,\n",
       " 1.7475979749585542,\n",
       " 1.7887941949027732,\n",
       " 1.2292374187287503,\n",
       " 1.584504209808526,\n",
       " 2.000369940165191,\n",
       " 1.9412811647349322,\n",
       " 1.1208375362134584,\n",
       " 2.3921296831691334,\n",
       " 2.2188421776675984)"
      ]
     },
     "execution_count": 11,
     "metadata": {},
     "output_type": "execute_result"
    }
   ],
   "source": [
    "%time dask.compute(*lazy_results)\n"
   ]
  },
  {
   "cell_type": "code",
   "execution_count": 12,
   "metadata": {},
   "outputs": [],
   "source": [
    "lazy_results = []\n",
    "\n",
    "for parameters in input_params.values:\n",
    "    lazy_result = dask.delayed(costly_simulation)(parameters)\n",
    "    lazy_results.append(lazy_result)\n",
    "\n",
    "futures = dask.persist(*lazy_results)  # trigger computation in the background"
   ]
  },
  {
   "cell_type": "code",
   "execution_count": 13,
   "metadata": {},
   "outputs": [
    {
     "name": "stderr",
     "output_type": "stream",
     "text": [
      "2024-09-26 19:44:32,595 - distributed.scheduler - WARNING - Removing worker 'tcp://127.0.0.1:50786' caused the cluster to lose already computed task(s), which will be recomputed elsewhere: {'costly_simulation-73aed4ce-82d2-4d35-9e2e-ebbb82fd5908', 'costly_simulation-f2f38b79-b3aa-46d6-b135-3f757a25723d', 'costly_simulation-88a7a6da-0c1d-47fc-8a1e-9eb8ab6d8667', 'costly_simulation-1a740d9a-ecfc-4021-b4a9-e9df6c31abed', 'costly_simulation-d83e0815-02c2-4f3e-8fdf-70e1618bb47b', 'costly_simulation-5359393a-92f5-4e8e-9151-906fb390dfb6', 'costly_simulation-78d387ff-3ed7-4742-8d75-6da9b093d57e', 'costly_simulation-4cc71573-215f-4dd4-9f0d-007c7de9f774', 'costly_simulation-a94e3b09-97a7-4178-9684-2e5fcf1f4f8a', 'costly_simulation-ba3bac46-6dd5-45a3-99c6-56520b758309', 'costly_simulation-aeba83b8-523f-46b4-99a8-cefc6b547caf', 'costly_simulation-c4028395-bd9b-4cca-9463-694d49512c37', 'costly_simulation-c09aa621-edbb-4c6f-b760-d83486ca0d0a', 'costly_simulation-6d2cbeb3-16ae-427e-b8ec-6a73513aa1db', 'costly_simulation-a029d068-0462-45f3-94bc-db32c34b2368', 'costly_simulation-b2e47e57-9e6b-4c4d-ab58-4a82c964f093', 'costly_simulation-c0754473-aab5-4ee9-ac92-5feeb8442772', 'costly_simulation-47904d4f-5f15-4a58-92dc-cec3cd80dbab', 'costly_simulation-0d310e89-d2bb-4176-a4e9-c5721c5643d9', 'costly_simulation-918e1a2c-84dd-4316-9605-26d3659a9d72', 'costly_simulation-97fdb11f-f580-4f1b-9666-3420c31f48f7', 'costly_simulation-cc779819-cf2e-4d50-9a77-8409aa76d8be', 'costly_simulation-e601c417-4b33-4ab2-889f-cfafc7e7993d', 'costly_simulation-e545d478-529b-4470-8f01-1dbbbb8a499d', 'costly_simulation-130332fd-8cc2-4e9f-baea-b5780f9881fb', 'costly_simulation-13da21b4-de27-43c7-9f3d-30a41f871067', 'costly_simulation-a8ec5cc5-0246-49a7-875d-9e863efaf4d7', 'costly_simulation-e3c82fa6-e8ec-4ef1-ac00-0115e4b972d0', 'costly_simulation-f6a5dd74-2dde-4b2f-9ab5-c8a8144a408f', 'costly_simulation-35fb6779-34a7-46dc-84ed-8446270124ed', 'costly_simulation-c98e58cd-5454-4594-a8e0-2003c4777642', 'costly_simulation-ffcb294e-efbb-4468-910b-d908a4079a91', 'costly_simulation-83487f5b-2b1f-4b0e-adf0-b3303759824a', 'costly_simulation-28cc5bb9-4d91-4daa-bbdf-935321905217', 'costly_simulation-0b955b09-15d2-4edf-ac35-4b3d2342dc1b', 'costly_simulation-90de1293-8570-429b-8c07-4dd3d1db3add', 'costly_simulation-560b0478-f180-44d8-ae79-c700e7fb05f1', 'costly_simulation-1699742c-ed15-4e1b-b9d2-edc809e389a4', 'costly_simulation-f2c6db1b-32b5-4b5b-9d64-7a3f90efb171', 'costly_simulation-49a15a23-3262-4ab7-95c8-7379c2aa1c73', 'costly_simulation-4ff3fe22-d63a-472a-ae49-a937068db01e', 'costly_simulation-1ebea514-3f12-4179-8b0e-5748de8cdf35', 'costly_simulation-6db91d0d-1cc9-4ff4-9bf2-0685936e599c', 'costly_simulation-593a728e-8a32-467a-b94e-81f0855d14ed', 'costly_simulation-ed1f6277-cf6d-4cbe-baf8-7dc04f8a9356', 'costly_simulation-dc07bb79-9bf4-414e-a9a5-302f32f8749d', 'costly_simulation-9c41627a-84d3-4366-9e0e-8e95197d19b4', 'costly_simulation-0a86fa56-e894-4685-9fb4-8b361de5fce8', 'costly_simulation-f44edd78-7347-4d3a-a616-dc91ad5f3035', 'costly_simulation-28fbd10a-97f2-4b31-b186-e5efc8312c40', 'costly_simulation-223ce84f-330a-4e0f-ae15-5e1e1e03bfd4', 'costly_simulation-ebbdd47c-61b8-4711-8a4f-37104240d3db', 'costly_simulation-aad3ffca-6f22-4f10-92a5-1c4d3b0c7e96', 'costly_simulation-0e94ba2c-0cfc-4be1-90c4-3848264195f3', 'costly_simulation-2e02703d-8f4f-4e6d-9b55-f14cb8ea6edd', 'costly_simulation-2ed38994-b56e-4b03-b133-493874b5bae5', 'costly_simulation-c502d8d8-13b7-4cab-b862-e9b01d4b62fc', 'costly_simulation-b47b69f7-2153-413c-bce1-afef44efc0e3', 'costly_simulation-63139e7b-61af-4523-a5c3-88e8ca59b804', 'costly_simulation-27fef2d9-8b9b-4fe0-ad00-d0d46c86af40', 'costly_simulation-6ebb6bdd-050e-40e4-8389-4cefc7d8399c', 'costly_simulation-1766d862-7e5a-4200-898d-a6a7a24a113d', 'costly_simulation-8cf68364-5bb3-48a3-a688-699cfbf04a48', 'costly_simulation-f835e690-03d8-4d4b-95c5-e0705bc91506', 'costly_simulation-5b02b8c8-3f34-4d11-a969-192227d2d4cd', 'costly_simulation-f929b8e9-4bc1-4152-a00b-5a406e725daf', 'costly_simulation-08ee8b4e-a715-4324-8a6b-13b1fce7690f', 'costly_simulation-80b867c7-67e2-42af-8a7c-2406032ff70f', 'costly_simulation-052a2e30-f749-41cd-9136-28e70c1af116', 'costly_simulation-dfbfb968-61a0-41dc-8a32-2acca82155fe', 'costly_simulation-552aefd3-d0ea-4af3-ad7d-526894b02085', 'costly_simulation-03dfc268-5971-41d5-83c7-81afc0353d70', 'costly_simulation-281bcda8-0aa8-4286-9cd2-982e2bec243d', 'costly_simulation-8a12c233-047d-4373-81f8-b630f9ef54de', 'costly_simulation-3846bb7b-dfea-4703-9ba0-7f41e3f84db5', 'costly_simulation-96eadb19-2b1a-43c9-b71a-c7afe52ac436', 'costly_simulation-175b810e-f9e3-403a-9215-663ff0d54880', 'costly_simulation-e8c0ff56-54f2-4439-beb1-2b13cc78016e', 'costly_simulation-fe1b8550-d6dc-43b2-affe-96582fd51ac8', 'costly_simulation-3869c683-b896-4057-8b62-781cfbf5d134', 'costly_simulation-380a25aa-5f5a-441d-8918-1d2a64470a4e', 'costly_simulation-8d2dfdb5-9a7d-47a2-ab17-948cc64fc2c5', 'costly_simulation-19388c2e-8e58-4f2f-b2a7-cdac2b2f539f', 'costly_simulation-db1ab43c-7265-4ae4-9ce9-a990382b90cf', 'costly_simulation-107301f6-e9bf-418e-9070-7fab425af54e', 'costly_simulation-d30e7158-1892-4fb6-ac2b-146ce5f2ebb1', 'costly_simulation-42e7be00-0125-44bc-9ebc-62cfa3d391b7', 'costly_simulation-b9431a3f-8ddc-490c-85e3-3bcefb264af1', 'costly_simulation-c9d38df7-2157-4dae-8015-7e13a4882586', 'costly_simulation-fe58ea8b-af33-4ca7-86fc-78a41e52a310', 'costly_simulation-684b32ea-c368-4b20-8cdd-67491be97f93', 'costly_simulation-bc2a68ab-571b-4737-9e8d-c5da81f2db8d', 'costly_simulation-4996e55b-f5af-4b5c-8ff7-3893fe773db0', 'costly_simulation-e7781036-6915-4c99-ba74-28d4a82ee117', 'costly_simulation-751afe02-1543-4ec6-9343-c785edd5b46b', 'costly_simulation-6fe32b73-ae7f-4ac6-b700-d64780506ecf', 'costly_simulation-f6513be7-fb8d-4268-942e-35d495c69264', 'costly_simulation-c62b5d72-511a-47b4-a36a-09ed967fde32', 'costly_simulation-4d24d3c0-2d88-4af7-a1a0-5c9eccd0bf1d', 'costly_simulation-01d502f5-09b9-4a7d-ba73-cd8b454b946a', 'costly_simulation-efa503db-ec33-4871-b853-708cc2a606a2', 'costly_simulation-ac701b60-817d-4baa-9f5c-76636f919c74', 'costly_simulation-53cac16d-98ad-4cb5-9d94-653af865c97e', 'costly_simulation-13217ab7-90de-413c-8670-a57504296473', 'costly_simulation-50776229-8d9d-43d9-a31f-5ac778ba6c86', 'costly_simulation-7245f8ae-c019-4bf8-99ba-eca1c8e10380', 'costly_simulation-86838a05-630d-4e6a-81c5-7d16a29a4f08', 'costly_simulation-a4093072-1a6d-4455-bcd2-24bb162f4fe9', 'costly_simulation-55fedc32-7102-493c-9dde-106156edc810', 'costly_simulation-4053b5f6-1135-4347-a6c1-85101eb98e62', 'costly_simulation-b2abae3d-54d6-4f90-9e66-b8d488b31c08', 'costly_simulation-1bfb89df-54dc-49ba-8ee2-b4823ef2a1a4', 'costly_simulation-fa88bddd-1491-445d-a0b9-2070e5f6ff12', 'costly_simulation-ccf6967c-984e-4cf1-8997-a79db0aa5cdd', 'costly_simulation-c2532d34-a840-45fa-b634-645c3607d846', 'costly_simulation-3eec55e5-5ea0-4893-be23-50dcc5b4ab56', 'costly_simulation-ef370046-7c11-4a70-972f-d804dc39c9cc', 'costly_simulation-398292f0-a15d-451d-b09e-89296f389e4c', 'costly_simulation-ca8b4653-d58d-43c4-aeba-607fc374d078', 'costly_simulation-8cc2ef87-3933-4341-85b5-3eac601b8ef3', 'costly_simulation-41dc5ff4-f073-4901-9f33-a9b05c30c7c2', 'costly_simulation-35b5c8af-b116-4dc0-b958-dea0006513f5', 'costly_simulation-e920d1c5-8f50-4ecd-993c-b61b4017e4ef', 'costly_simulation-4997660f-833e-474b-b7c3-39e1fb4d9fe6', 'costly_simulation-b850d061-5b05-4c25-8679-2327eb72131f', 'costly_simulation-30509c08-7d7d-4f6e-986a-643bff95bb1d', 'costly_simulation-88a27da8-be7c-4efd-9cb8-508a15c9fae0', 'costly_simulation-bb4cc3f3-f08b-413a-8c84-3b7d5f5a7a8b', 'costly_simulation-9070c8a6-de9a-4ac8-92ee-88199b40cced', 'costly_simulation-2aa0da95-93a7-4ba5-8d89-36e738821c65', 'costly_simulation-0d1283b2-6659-45a4-944c-4ae40506fa41', 'costly_simulation-b138d8b1-4469-467f-94ae-adefcb1d0dfc', 'costly_simulation-ab3f38c0-473f-46dc-910a-06598fc4fc35', 'costly_simulation-1f34e1a7-14e8-4d03-8eec-d82ff9dd3ba2', 'costly_simulation-d53aa157-6c85-46b3-816a-761faa61911e', 'costly_simulation-551fc6ec-e7de-48db-8827-f0573db67bce', 'costly_simulation-36262f64-091e-4b91-ae17-32635da02cc9', 'costly_simulation-b4a6d581-9fde-4b6c-8283-69c98c2731ee', 'costly_simulation-f084cc95-b89e-48a2-87c0-43a13040b578', 'costly_simulation-97567943-cbfd-434b-aaaf-fccc77049956', 'costly_simulation-e6c6a116-7223-4279-a07d-26226ea5688d', 'costly_simulation-1cb68c8f-efe9-4071-9667-f82071454f01', 'costly_simulation-41f0a133-8bf5-4814-b383-e69f42b3c758', 'costly_simulation-6dcacb44-ac97-4be3-831e-db24582c52bd', 'costly_simulation-70a1a0d8-b07d-4911-92f2-fd1103a22aff', 'costly_simulation-05bb1248-65b1-429b-a204-0abb973913c3', 'costly_simulation-50b1633a-5b60-4201-9f8b-b1992a2a25cc', 'costly_simulation-d7c1f414-3eb1-4b7b-80f0-d1ebd758a812', 'costly_simulation-d9db86ea-7d10-4fd9-a7e3-393355d3a6e6', 'costly_simulation-6318fcd5-54a2-448a-909c-5d951680cb80', 'costly_simulation-5f61ef69-a0b3-425e-99c4-ce2db9db3c63', 'costly_simulation-7d52ebdc-809c-4b5f-8b1b-5e788aaa9208', 'costly_simulation-a67d53cc-0e27-472a-9f20-b2936086bb65', 'costly_simulation-89d79ccb-6bdc-452f-8cec-5b67ec248586', 'costly_simulation-70ab5be3-7bc9-4ef6-99f1-cdc00b8dd0c1', 'costly_simulation-41c6b1c8-2571-43d0-b7bf-88e29d1518c6', 'costly_simulation-23a1af25-0264-41a5-9d6b-e126474b4a09', 'costly_simulation-27475f13-04d1-44f7-b9be-68802cbf1dc6', 'costly_simulation-02a3a79b-7169-45fd-a792-147504c1ee1c', 'costly_simulation-e6a2449e-a927-4067-9e47-994715bcc3f3', 'costly_simulation-3dd0ba89-c19a-415d-9fe6-5879d81a60b8', 'costly_simulation-dfcaffb4-7520-4abf-be3d-c5dab0ae844a', 'costly_simulation-b5e07dae-d86c-464b-b389-8a4210f860de', 'costly_simulation-5068d9ba-37ba-48ff-96d7-bb2f306f2404', 'costly_simulation-7cfec6e2-121d-42bb-938e-0ade0e97cf11', 'costly_simulation-97796051-62d2-472d-85e7-f8e746eec2b9', 'costly_simulation-110e6f34-d7ca-4d55-9474-5f3b4456ad68', 'costly_simulation-4c2daf0a-439e-405f-ad57-2a3a366696aa', 'costly_simulation-57699b7c-3a9c-4564-802b-b9ec29c3dd6b', 'costly_simulation-53848ab4-9dce-4eb7-aa68-2af39c49f4c5', 'costly_simulation-40a5b6f3-82b1-4538-b280-faaef48b6ae3', 'costly_simulation-e8f7dfd2-2789-49f4-856c-2455b5d559e7', 'costly_simulation-dea92847-2503-4d91-acdd-ce1034173dde', 'costly_simulation-744a081f-0158-4512-a7c9-8cd68e750510', 'costly_simulation-6cf35800-0fed-425d-9a97-dc8f5a8f96d6', 'costly_simulation-4090c9c5-b721-4ca3-9331-7a4f2b8ae56d', 'costly_simulation-8dabac3a-126c-4f8a-8db4-91439e81bb08', 'costly_simulation-9d52cd3f-7fe6-4692-94a2-5835a7adcaee', 'costly_simulation-993f36f7-0764-4d74-a76d-8b781e6a9677', 'costly_simulation-98b43809-9e99-4c79-9293-0645346c8363', 'costly_simulation-42d6dbc9-f4d9-4f6d-9ad8-34c200689205', 'costly_simulation-9e0659bd-239e-443a-a4a9-b433c1084d37', 'costly_simulation-f3c61700-460c-41f0-90ac-979fb73c54bc', 'costly_simulation-c8051719-a8e2-4aaa-92cc-82d319b29af3', 'costly_simulation-2977f46b-d1f1-419a-b8b2-f544ff34cf9e', 'costly_simulation-13b42908-f166-4957-af30-18ec21c733d9', 'costly_simulation-033ec984-d3df-4b01-bdd3-8eedc2dc8e65', 'costly_simulation-5eb8724d-5f19-45cf-9136-26b128af97eb', 'costly_simulation-e19a8164-3430-432b-8142-7f20c58097ee', 'costly_simulation-6dfbe946-f702-4d1f-b565-59a90147b014', 'costly_simulation-4cd6aab0-d890-414e-bdd7-e800be206cb3', 'costly_simulation-417388cc-2837-468f-877e-85a5f3ce4a39', 'costly_simulation-3c150c0f-e4a8-403d-928b-795d9428a089', 'costly_simulation-84c77805-6248-41e6-b22d-92e033835725', 'costly_simulation-75261d17-7b0f-4eba-abc1-6ce84ddce15c', 'costly_simulation-7e95f1b6-9ebc-4231-af37-ce1322cb00b1', 'costly_simulation-ab577ace-dc4c-45ff-a7cd-cde54b7260ff', 'costly_simulation-c2c184ad-1d9f-4e42-9b1b-7320d075210c', 'costly_simulation-de9a01de-27c6-4e37-91fd-ec101358b9d0', 'costly_simulation-3f3d6629-fa77-4783-97e4-b4fb272b013b', 'costly_simulation-46a85292-f9c2-437c-9b9d-e1bfc3b78ccd', 'costly_simulation-0f684799-b45f-48f9-845a-a688ab07091a', 'costly_simulation-f7f54efd-254c-4cf1-baa9-019ce0499eda', 'costly_simulation-a92036c1-0334-44e8-a4b8-353a92a8fce1', 'costly_simulation-67b8a63a-129c-4620-939d-11ba0d1ed758', 'costly_simulation-99a56f8f-d603-425c-88f1-7241e82be5b5', 'costly_simulation-52607f33-c8c0-47ae-8b5f-44ff9264d017', 'costly_simulation-f500482c-ab19-45a3-9276-e5dfc6329417', 'costly_simulation-fe15e15d-5a4f-4849-a01d-eb4299dfbb38', 'costly_simulation-00cdd19c-66db-49f0-9e42-55b5f13183fc', 'costly_simulation-590f5a87-640a-4038-835b-c76b90780cc4', 'costly_simulation-5bdca000-604b-41dc-b493-d418402d5773', 'costly_simulation-9d934602-7aff-4df0-8570-0f366d0c7d3b', 'costly_simulation-7a430415-847d-4af9-8fe0-21fd039dbd30', 'costly_simulation-91c503c9-658f-49ca-b7e0-8f2f1ef37800', 'costly_simulation-3fa7d6f5-f62b-49cc-bd45-743f7a305ce8', 'costly_simulation-b50b0086-b692-4d36-9351-6dc106bc5ef1', 'costly_simulation-98582ee0-5852-4382-ab81-9e9e23426d14', 'costly_simulation-c30fbab5-56c6-4543-aa1e-65ea6de9a481', 'costly_simulation-333c56a1-4609-424b-9157-88e67c13d650', 'costly_simulation-114a53d7-91b4-4f17-9edc-d1be7510151a', 'costly_simulation-ff65ac43-8548-4a02-a2f0-4488175a9bd9', 'costly_simulation-0b3f5345-59a4-46cb-9c48-32337bb7b682', 'costly_simulation-9511e8c8-45f4-4b19-8ae0-9f1af93113ba', 'costly_simulation-cbd0b879-2006-4d32-ba1a-94cd9e348aec', 'costly_simulation-6e8c1290-9408-400f-bd6e-392ac49d8cce', 'costly_simulation-533b1e1d-1907-4be2-826e-e5c457f0b8e0', 'costly_simulation-4878ca47-e44a-4ca8-a779-16d0a7b36b64', 'costly_simulation-906450a4-f3e2-4cf3-84aa-38391a039c20', 'costly_simulation-f5262008-9214-45ef-949f-66a6aa1750f6', 'costly_simulation-0938599a-a085-4a8d-9c9b-d79f2dbcfa01', 'costly_simulation-d63ce8f6-f5f9-4cc4-8e82-8ca873f31ccd', 'costly_simulation-9fd5fedd-3152-4698-9318-be4ac02ac128', 'costly_simulation-74f5376a-5104-4100-89ee-68762d9c1f0e', 'costly_simulation-7a1bd66d-8fbc-4585-b28a-1be55d33e748', 'costly_simulation-b9c4927c-0ce2-492f-bdd3-9a83f8b07336', 'costly_simulation-8630240c-476c-4bd5-9740-ecc5113699bd', 'costly_simulation-f334fe9a-74d8-4bbc-b4e5-f6cfa589a5ef', 'costly_simulation-e31f1111-eb77-48d9-afd8-34fb72bca3af', 'costly_simulation-eb1290cc-692d-4ff8-a2ac-b47e3689c2fa', 'costly_simulation-ca12206a-4a62-49b8-85bc-fe889a109207', 'costly_simulation-8ddd0715-5e30-43ff-b1bd-c91204863167', 'costly_simulation-eb943013-ce43-4bd7-9fea-08e197b947e5', 'costly_simulation-7ddcc145-fcda-4db9-b426-7739af8893be', 'costly_simulation-a53f3af0-b4e4-4282-a25a-017ca3b23bd8', 'costly_simulation-05a75e5a-32c5-4d8c-9dcf-e7a9a3cd6e98', 'costly_simulation-8ac4d35c-d5d1-4f4e-bd80-d82e9f501785', 'costly_simulation-80330e88-15c2-478a-b76d-4146bb7cb4ef', 'costly_simulation-caa34d33-35c8-486a-b8ef-9b44e5783850', 'costly_simulation-7a535f9a-b30b-46ae-9bce-bbe9affa5041', 'costly_simulation-65c2b114-709d-4e1c-98b1-dd628a14471e', 'costly_simulation-ecec97de-87dd-4b3b-a9f2-bc09d46c43e2', 'costly_simulation-4c808fce-d138-4712-a73d-ffc80a74c41c', 'costly_simulation-08cea060-c009-4166-b11c-a86e0e39dc82', 'costly_simulation-cfeaae89-9dbc-4d40-bcb4-b61c9c774b5c', 'costly_simulation-1dbefda4-9fcb-4d8d-8084-821329a8b13e', 'costly_simulation-991559db-dbf8-463e-894c-c06ed12aa29e', 'costly_simulation-aac18e58-584c-4e1d-9e0f-8936cf8fee54', 'costly_simulation-f21c52f4-2eab-46b8-bd62-ea6fdfbf3cb6', 'costly_simulation-22e169fb-1c22-438b-84f4-92a2b8ceb10a', 'costly_simulation-974c19e8-a4a4-4eb6-849b-4fb355208305', 'costly_simulation-2b39eb67-f746-412d-8b22-987e1e392e5c', 'costly_simulation-cf3bff28-7585-47e4-bddf-ad3f043db402', 'costly_simulation-29a15323-277d-4229-96f5-4f53ed502436', 'costly_simulation-aa9a9a9b-741e-4575-8832-0c18c6068232', 'costly_simulation-80c9486b-c39e-490f-b62d-666cd352ff39', 'costly_simulation-10c72598-6188-4de8-a093-f34d1e9bc9d5', 'costly_simulation-09099b62-0c0e-4609-baeb-4b62bad21a78', 'costly_simulation-bcbe88f5-ad55-49ec-b98f-306c852cfd66', 'costly_simulation-c016dcf3-da15-432c-b5a2-b3e81cde496c', 'costly_simulation-bc0524d3-3cba-4748-bec4-78db729acf9f', 'costly_simulation-f59c052b-3320-4a5b-a517-58bfa1a58809', 'costly_simulation-e447892b-2a78-42dc-b9b4-79bc33e0d2c5', 'costly_simulation-9bd515cc-c18a-440d-a3e2-21388cbdde52', 'costly_simulation-0835a614-7c52-4da0-8f5e-cd46b1c3d92d', 'costly_simulation-8b2a8eec-ef74-4c65-9bc9-74de703f2fc1', 'costly_simulation-33eefac3-ea1e-452f-91ca-7271da22bed1', 'costly_simulation-1412783a-e5f9-4a1c-a254-5e392acf538d', 'costly_simulation-fb27d2f4-eb56-4fe8-b262-8cd1e8949167', 'costly_simulation-12068a0c-a0a8-408e-8359-0b29446dd5ca', 'costly_simulation-2963d738-683e-4445-b0d0-478778e1a606', 'costly_simulation-9154a6dc-2208-46a1-96a8-98d8815b9469', 'costly_simulation-63da8732-2a3c-44ef-8b43-9de1ccf6e348', 'costly_simulation-136d68f0-c195-4257-810d-cdda4b024c59', 'costly_simulation-d2d1c39a-92b5-46b2-af74-ab3c08c1aafa', 'costly_simulation-0af6830b-5696-4a7f-8f38-f06bcb83f100', 'costly_simulation-8b4b7a20-2cc6-4504-a3f1-2b4df76407ea', 'costly_simulation-874de3c6-79e7-4480-bf68-bc591627ba66', 'costly_simulation-2f664521-2580-4f7a-b94e-03ac19a8b2ec', 'costly_simulation-04ea0fa1-654e-4d65-a5da-9b6a5e2ecc6f', 'costly_simulation-3d7cc9ee-c866-40f6-82f3-1cc80d7a97fa', 'costly_simulation-1f7bf5af-19b1-4e68-ab5e-d47628c81892', 'costly_simulation-6162d0a5-6c36-494f-8442-f9c82273155e', 'costly_simulation-c78265d3-d0f2-4314-952e-ba573bca1c0f', 'costly_simulation-ed18e1ba-2443-496d-9e39-4f45ce8d61fc', 'costly_simulation-fab5a637-658e-446a-853b-d6060bc9bdaf', 'costly_simulation-369c72fd-ec27-4b21-9e08-91d90199a7c3', 'costly_simulation-ac79edb3-f0e1-4545-af09-60f22613fea4', 'costly_simulation-12ef4246-d621-441e-9b99-f0eae7fec972', 'costly_simulation-d38c18ed-6d72-4cda-95eb-5f44d42cb183', 'costly_simulation-c36f652a-881b-49c4-98eb-598f76010bb9', 'costly_simulation-c44b065e-8cb6-4e3d-8542-5bfc11311a18', 'costly_simulation-6b883c89-8a21-442c-a3d9-5fb9ee72fb91', 'costly_simulation-49c3c0d0-9665-4ff8-a6e3-69feeeb8d165', 'costly_simulation-5ec2ec0f-f2db-46e7-b1f9-f9800dfcd741', 'costly_simulation-47b1e89c-3e81-4216-b864-e8682bef4161', 'costly_simulation-3eecb39f-929d-40bf-842e-e6f84640cd32', 'costly_simulation-83670e14-bb0b-4561-b80a-454e717e132d', 'costly_simulation-b93fb04f-4c29-43a4-846c-d374509804fd', 'costly_simulation-99c9e93b-512b-49fa-8c28-ade715a210e0', 'costly_simulation-53daf27f-df32-48ae-87f5-be00e6837251', 'costly_simulation-5ddb4253-e358-428a-bdb1-ee3109a4fbc5', 'costly_simulation-b3896773-1644-41e1-995b-fd12c71186e2', 'costly_simulation-d451b994-425e-4bf6-89c1-df59ad8ed654', 'costly_simulation-ce57c26d-de2f-4f97-a56b-279f58023f0d', 'costly_simulation-d93c55fd-c8aa-4042-9327-8d58398bcce8', 'costly_simulation-9e3b2d95-a366-4bc4-bfe4-09c39fde3941', 'costly_simulation-1355101f-a4d4-4509-b8db-f0f2f5f24477', 'costly_simulation-589a76e1-46f4-4959-a843-f8af932bbdb2', 'costly_simulation-3935644a-cd73-43ca-821c-67c8e84c146f', 'costly_simulation-54492c3d-4658-4e80-a3e9-a9cfc0cd4494', 'costly_simulation-ef7d1525-3991-41a3-ad1a-5cb2a099e5a4', 'costly_simulation-6d376902-971f-4595-8ef1-ad27bb994664', 'costly_simulation-ec48b092-d52f-4400-89af-bb9f2a94ccf1', 'costly_simulation-94a7fcff-55c7-4dae-9e05-c0f67a9cf2c8', 'costly_simulation-4124975b-8ea1-440c-ab1d-48c96b85f80e', 'costly_simulation-1c26b265-90f5-46db-9f86-05f57c4c394a', 'costly_simulation-af731d3b-3e0f-48b6-abd1-33a6f6ccec35', 'costly_simulation-90f94816-9989-45a3-b054-0eb367c49a2b', 'costly_simulation-ba8190cb-f4b0-49c2-b606-7bebecbede57', 'costly_simulation-7e8d6021-e0c4-4dee-9a70-4a8e9d9e7961', 'costly_simulation-bd319a65-73fc-4e7e-8b61-0202d5a30f0b', 'costly_simulation-2db46301-885f-4229-a4a4-4dd31afa2433', 'costly_simulation-5ef1b5e0-33f8-455b-bc01-2bab8bb4a013', 'costly_simulation-8e22dd13-f14e-4e27-80c1-940b1fbf6df3', 'costly_simulation-54926bf3-e1d7-47c4-9495-7bbb36f76f78', 'costly_simulation-159db431-7d5e-4e1d-9f79-97f6e716b17f', 'costly_simulation-d0656acd-7bfc-4ded-81bb-5e831f49f35a', 'costly_simulation-0167ede0-6e14-4963-81ae-f152308142a0', 'costly_simulation-06da8e6f-132a-4a5a-81e7-de9817151067', 'costly_simulation-75cf2801-ba7f-4e88-91fd-2e0243cab3b8', 'costly_simulation-c7f34b50-ee11-46f4-8b7f-3e074ed62649', 'costly_simulation-02c02e3d-537c-4bb1-abdd-e747f9172fc8', 'costly_simulation-f93822b3-b27b-424c-8be5-55f332a23ba6', 'costly_simulation-e877539c-a2a3-4731-a810-b96b4680432b', 'costly_simulation-b0a7d263-2c83-4d5c-9af1-23f31a8b6459', 'costly_simulation-aaaf084a-77bf-4d5d-9ac8-daeb497aae9a', 'costly_simulation-178285ac-fad8-498c-aa02-29996fbb2e49', 'costly_simulation-d02249cf-1f3b-4f38-836f-62d74b843264', 'costly_simulation-24d12507-e2e2-4f63-a5c8-2df962a83427', 'costly_simulation-6285d5de-079e-4d84-8fa3-073653bbdccc', 'costly_simulation-c6167924-8e92-402b-aab4-96696fe3e1f5', 'costly_simulation-4407807f-2f18-4039-af39-ba04ceab88a5', 'costly_simulation-f5fc5c4e-20b2-4029-a30b-95b16460472a', 'costly_simulation-d8c2813f-1f5d-4eb5-bee8-521fb26559cf', 'costly_simulation-f09eeca2-35f8-41b7-8245-0c6757727dcb', 'costly_simulation-b2f9b501-f34d-4499-b286-86511bc160ba', 'costly_simulation-8837075a-8d30-46e4-b5cc-1a9b3fbff078', 'costly_simulation-6a2edb30-6b35-4672-aaad-7478308eacb4', 'costly_simulation-ecf7480e-fb19-4499-9045-e17006025bef', 'costly_simulation-46bda26c-8c93-4668-b705-7e7e8b27fb36', 'costly_simulation-d20ae6fb-311b-4cf6-9a92-d7b3ca16f32d', 'costly_simulation-362001d1-ad49-4674-9f79-2dfdbf5e38af', 'costly_simulation-05a61177-3dc6-45ff-b6bf-300a3ceea46a', 'costly_simulation-7d6f2789-5f3b-4f2f-bfd9-22c126029018', 'costly_simulation-cf3a4cbf-5942-47b8-8978-26c1c8c1a684', 'costly_simulation-f6c3a6f9-d6b3-41f8-be80-f25f5cc6cde5', 'costly_simulation-feb2f73f-c07e-4fc6-be5c-bf0a433f31ff', 'costly_simulation-82f5a52e-bd3d-41cd-b582-5bda396c463a', 'costly_simulation-d94cd5fe-7d66-40d5-a03c-f2b25c146d22', 'costly_simulation-98fb0979-8a31-45ac-8c16-42da310e6526', 'costly_simulation-1a766c3c-f310-4007-8753-5eeff6287266', 'costly_simulation-18d5be9c-2c8c-40fb-bfb0-2fe0b51f84ad', 'costly_simulation-f503813f-2357-4f18-b94e-fe3bacbefd2d', 'costly_simulation-12643ee4-1a1b-4cb0-ad1e-4e3d9de2afae', 'costly_simulation-06415d4c-0018-43bd-9497-b649a739cebe', 'costly_simulation-2dc519fc-ddd6-48db-a3d4-e6614ad8ca2a', 'costly_simulation-318af27d-45c8-4db1-bf9a-9f7d996fc5a4', 'costly_simulation-c07b6ab0-c4f2-455b-9cb3-946589a83983', 'costly_simulation-543c4aec-4dd5-457d-951a-e6d115a90f64', 'costly_simulation-139e6bdb-c466-49eb-9dd9-449337eea5d0', 'costly_simulation-797bb5d8-df01-47c9-8fe8-52791bf3bec8', 'costly_simulation-6e77d722-3b08-49cb-9ed7-70f78d99d592', 'costly_simulation-1bb6f603-1380-48a9-ae13-f98424557c20', 'costly_simulation-2afdfe44-0c25-42f9-a2cf-eb433b564d2b', 'costly_simulation-c7e6a43d-9d10-4e31-a5ff-eb341767f89b', 'costly_simulation-b5196156-b175-44e5-9513-e52120a3e9d4', 'costly_simulation-e0816f6d-652c-4193-998a-2ed9df447ca7', 'costly_simulation-8095a4f6-102e-48e2-a22b-7f388754f9a3', 'costly_simulation-9604d495-92f2-4cac-a608-d84fd00f404c', 'costly_simulation-dcab82e0-8bf3-4846-9348-8ffbaa0787d6', 'costly_simulation-21487c54-a681-4e98-9341-ad65ab82e8a2', 'costly_simulation-9c2aaf47-5af0-4be2-bb56-9068ee4e4f65', 'costly_simulation-1f3b5f5b-16f3-4741-a670-287d589fa5b5', 'costly_simulation-b644d15c-a2d3-49c2-ad6c-63f07ea9ec89', 'costly_simulation-674170e4-b2bb-4029-af44-888f6ccb0c02', 'costly_simulation-3d755926-b339-46c0-810a-7ed0caa84b81', 'costly_simulation-9599a0e1-931d-4d74-867e-9f9acdbb064d', 'costly_simulation-6bab044f-58ed-48bc-852c-559978102b57', 'costly_simulation-2e7e0791-fe14-4246-9709-4dd0956729fe', 'costly_simulation-3fe55503-d734-477e-89b6-f64d086052bc', 'costly_simulation-c5176780-a409-41c7-969f-d4bd4148f734', 'costly_simulation-259dff73-81e0-4151-8a3a-aa81fb9798aa', 'costly_simulation-0e364717-f34d-4492-9504-95633ba100e2', 'costly_simulation-3b224b46-1c01-4c69-bc6b-d118a9f17036', 'costly_simulation-b829060d-9215-42a1-93a8-d3cc9f6b444c', 'costly_simulation-426c940b-4646-4c4d-852b-5ce8ec8fbf9b', 'costly_simulation-6d735e1d-2fdb-4865-b31e-15fb064792bb', 'costly_simulation-58804ea0-6867-4267-b076-305c65642abe', 'costly_simulation-36397d9a-4817-409c-9411-cb47f4f42f85', 'costly_simulation-8e9e7739-77f5-4f82-bad8-6e0b841d36c1', 'costly_simulation-77e6b701-33ec-4717-8f08-318675d00d86', 'costly_simulation-7a7ecd0e-128e-47a9-861b-3172482b59eb', 'costly_simulation-417b78c9-a7e2-45a7-a2f7-7d2169746646', 'costly_simulation-c2a56257-4957-4d98-9634-b5feeeb7559f', 'costly_simulation-dc4f4a00-78d1-4a79-a868-ed82de62602b', 'costly_simulation-cb60b195-646f-4f64-b6ee-08d9bf199e79', 'costly_simulation-0cb68885-eef3-49a2-aeef-64f4cd8a0ac1', 'costly_simulation-39a6770d-d7d9-440a-adeb-82e44aa32e4c', 'costly_simulation-e1a24562-f014-4cbd-ad41-5edac8b6ea0a', 'costly_simulation-a1c72313-65a5-4213-8adb-a87e3399a823', 'costly_simulation-b0577bb7-f6bd-498c-b0ea-8fb9932871d5', 'costly_simulation-641f8392-df0d-4c02-846a-1e83def5eac5', 'costly_simulation-932cf1ec-be93-438a-925c-b6eb0d7e9a5f', 'costly_simulation-f143a19a-047a-4b2c-a8b8-6cf8520a6b1a', 'costly_simulation-cb436959-7c63-4e27-9f1d-e2e4955a113d', 'costly_simulation-e9dbacdc-2219-4379-84c7-bc26a06e41d4', 'costly_simulation-4ac8b427-b000-4c5f-8617-4e6667858a1b', 'costly_simulation-a3225be7-4c61-4c19-b89e-1e6cc5fae276', 'costly_simulation-627f4b12-98f7-4187-86b4-7f49717fe5e3', 'costly_simulation-481c7e6d-4bf2-40f0-8c8f-a5e7571eea63', 'costly_simulation-b3049f3e-f2cc-46c0-a25a-ed0c40781d0e', 'costly_simulation-9933f4ea-5d79-42a9-9d02-e396a20e9e3a', 'costly_simulation-15096986-8bae-4b6d-8d03-90ec0d30006d', 'costly_simulation-e01fba64-289d-4806-9024-2792d7f5775f', 'costly_simulation-d61e9244-fb37-4e32-a2bc-a1ee8ae4e7c7', 'costly_simulation-32eb7f1d-8143-49a6-a5f3-d2db6873f0fd', 'costly_simulation-e30b3bc5-f152-4b26-be16-6aa0b4d40b57', 'costly_simulation-75df3462-c054-4d68-b55f-65a60078567f', 'costly_simulation-20adfb65-fa5d-435e-a9fb-326185576432', 'costly_simulation-ebc6c398-8966-4f04-9f9f-44b8093ff7c7', 'costly_simulation-eebc89d8-825f-4a1c-8e70-e56df130872e', 'costly_simulation-731ed022-7658-4fac-bc35-007f3e086885', 'costly_simulation-7151bdee-96af-4068-98c3-945d67f1a5ba', 'costly_simulation-70cb8566-1cc4-4995-8191-5c9812d38ea0', 'costly_simulation-4ca19771-b0fc-43ee-a2e5-c08422516710', 'costly_simulation-ad2f76fa-e3fb-4d2a-a509-8792dc066a1d', 'costly_simulation-6b3f9093-69c1-4106-9730-8577a3ff3499', 'costly_simulation-07f2a55f-966b-46fc-acd1-a9313cb9877e', 'costly_simulation-8b1d585d-c112-4212-b01a-575b827a7601', 'costly_simulation-487e6fed-322e-40b6-807d-41ea390b8476', 'costly_simulation-a108a25a-1e0c-437a-8785-c200856a5a73', 'costly_simulation-96f2f421-ce1d-4edf-ab32-bbdfed343cbb', 'costly_simulation-e4fe395d-82fc-4728-b3c9-4a2f6d4256a5', 'costly_simulation-6fe98a3b-f4ff-44b7-b496-81e7789cc16f', 'costly_simulation-c8deb1b6-ee6b-4779-bd6a-7a999743d4e6', 'costly_simulation-95cdd43c-ac70-4960-b57f-9c54d54146c2', 'costly_simulation-96b878df-8c53-4f7b-bd29-9b693d3b00f5', 'costly_simulation-8ab21525-adb2-427c-85f6-ed2845b326bb', 'costly_simulation-5d21f4e6-124c-4274-8d54-6faf80a29995', 'costly_simulation-accc37ea-9b86-4fc1-a8ab-6585e4899e1b', 'costly_simulation-4a2ca1ab-b148-4990-8ea2-372ef3a3566c', 'costly_simulation-3daeeba9-292c-4552-8111-a9125ca2e9e7', 'costly_simulation-b6b54510-8d7b-4d6a-a237-6c1fbb22b7cb', 'costly_simulation-7c53d4de-efe3-4609-86d8-ff96436d761a', 'costly_simulation-b05fb59d-df0e-46d7-8824-213788aade48', 'costly_simulation-b6553450-debf-4223-9632-91b65aa748ce', 'costly_simulation-5776853b-e1d6-4949-b893-d284de1f913b', 'costly_simulation-af24d6df-f083-43af-beee-ce5a5d6ee3d8', 'costly_simulation-8af66876-7791-4571-9be8-59d72725e25a', 'costly_simulation-b6455121-6128-4c35-8633-393c1f214adb', 'costly_simulation-9d2f7155-c1ab-4a73-8b0e-4fbfa0529b4c', 'costly_simulation-effeff39-91b7-4f73-948f-e631ee87498d', 'costly_simulation-4f9e254b-7416-43eb-9ff2-5d8deef51cd4', 'costly_simulation-9ff0659e-715a-4ab8-8dbb-74704409795a', 'costly_simulation-6e178ab5-c086-4350-aeb2-619a74a763a8', 'costly_simulation-c20e4812-9307-43cf-9fa4-7094a9395e40', 'costly_simulation-f2b0b3d2-7117-426d-9722-618d4896d794', 'costly_simulation-11f842e2-b841-4ceb-9cbe-3776e976e243', 'costly_simulation-f4cf0458-1320-4ae3-8123-b62d1b125f45', 'costly_simulation-1f94fbb2-5ef9-41e6-9497-27df769b15a0', 'costly_simulation-cdb3316c-4302-4abe-b7c8-d10d24168fb8', 'costly_simulation-e4a214cf-24bb-44aa-a93b-caf8c4b51a6e', 'costly_simulation-c91fb10c-caa3-4ef7-91c3-5368a195b78b', 'costly_simulation-30e7f347-c054-402b-af5b-72566491c450', 'costly_simulation-3f6aacf4-9f8e-4489-bc82-e124e4a7ce23', 'costly_simulation-1294638c-e1cb-47db-9654-31ab4dc0e8e5', 'costly_simulation-276cb716-79b5-4e6b-b7c5-6faa7e9b436c', 'costly_simulation-d2a9332c-b0f9-4360-82fc-2c37d08fefac', 'costly_simulation-f1aec2fb-6a66-4ae0-9f9e-94806f4af441', 'costly_simulation-6e9af9db-93fc-4e1d-99a6-5b9cc6da830b', 'costly_simulation-4cd01471-cad1-4bdc-91b2-7817377f91f3', 'costly_simulation-3cd5f73b-f86b-476e-9532-49992a2aa265', 'costly_simulation-34ded27d-8e21-4590-9e24-26878b852c4d', 'costly_simulation-d94511ae-fdb0-4618-a151-9a36621751f9', 'costly_simulation-3c59d946-95b8-4b7c-98d6-0a7480a02183', 'costly_simulation-c6dd4c0f-9dad-4543-9092-d05b2fd49c40', 'costly_simulation-f7ca595d-200b-4cea-8849-0e10f781e7ca', 'costly_simulation-6ada2a92-6e1b-494c-8049-9b50e560f03b', 'costly_simulation-d044a321-244f-4b2e-8c81-79fe55880548'} (stimulus_id='handle-worker-cleanup-1727394272.5959792')\n"
     ]
    }
   ],
   "source": [
    "client.shutdown()"
   ]
  }
 ],
 "metadata": {
  "kernelspec": {
   "display_name": "base",
   "language": "python",
   "name": "python3"
  },
  "language_info": {
   "codemirror_mode": {
    "name": "ipython",
    "version": 3
   },
   "file_extension": ".py",
   "mimetype": "text/x-python",
   "name": "python",
   "nbconvert_exporter": "python",
   "pygments_lexer": "ipython3",
   "version": "3.12.3"
  }
 },
 "nbformat": 4,
 "nbformat_minor": 2
}
